{
  "nbformat": 4,
  "nbformat_minor": 0,
  "metadata": {
    "colab": {
      "provenance": []
    },
    "kernelspec": {
      "name": "python3",
      "display_name": "Python 3"
    },
    "language_info": {
      "name": "python"
    }
  },
  "cells": [
    {
      "cell_type": "code",
      "source": [
        "import os\n",
        "\n",
        "if not os.path.exists(\"my_new_directory\"):\n",
        "    os.mkdir(\"my_new_directory\")\n",
        "else:\n",
        "    print(\"Directory 'my_new_directory' already exists.\")"
      ],
      "metadata": {
        "colab": {
          "base_uri": "https://localhost:8080/"
        },
        "id": "mcgSaFNftN3h",
        "outputId": "7fd9dccb-51be-4733-e698-80add9908602"
      },
      "execution_count": 23,
      "outputs": [
        {
          "output_type": "stream",
          "name": "stdout",
          "text": [
            "Directory 'my_new_directory' already exists.\n"
          ]
        }
      ]
    },
    {
      "cell_type": "code",
      "execution_count": 24,
      "metadata": {
        "colab": {
          "base_uri": "https://localhost:8080/"
        },
        "id": "ihbV0D22rvVm",
        "outputId": "5b040e30-b14e-4b70-80b4-116614dfaad5"
      },
      "outputs": [
        {
          "output_type": "stream",
          "name": "stdout",
          "text": [
            "Total no. of files: 10\n"
          ]
        }
      ],
      "source": [
        "import os\n",
        "import pandas as pd\n",
        "import json\n",
        "import matplotlib.pyplot as plt\n",
        "\n",
        "import folium\n",
        "from folium.plugins import HeatMap\n",
        "dir_path = \"my_new_directory\" # Using the directory created in the previous cell\n",
        "files = os.listdir(dir_path)\n",
        "print(\"Total no. of files:\", len(files))"
      ]
    },
    {
      "cell_type": "code",
      "source": [
        "with open(os.path.join(dir_path, files[0])) as f:\n",
        "    json_object = json.load(f)\n",
        "\n",
        "print(len(json_object))\n",
        "\n",
        "keys = list(json_object[0].keys())\n",
        "print(\"The keys in data are:\", keys)\n",
        "\n",
        "df_main = pd.DataFrame(data = {}, columns = keys)\n",
        "df_main.columns[df_main.columns.duplicated()].to_list()\n",
        "\n",
        "for i in range(len(files)):\n",
        "  with open(os.path.join(dir_path, files[i])) as f:\n",
        "    json_obj = json.load(f)\n",
        "    df_main = pd.concat([df_main, pd.DataFrame(json_obj)], ignore_index=True)\n",
        "\n",
        "print(df_main.shape)\n",
        "df = df_main.copy()\n",
        "df.head()\n",
        "\n"
      ],
      "metadata": {
        "colab": {
          "base_uri": "https://localhost:8080/",
          "height": 690
        },
        "id": "iUo7g8wIvExV",
        "outputId": "e837c127-45e0-4b54-b732-2f0c28272233"
      },
      "execution_count": 26,
      "outputs": [
        {
          "output_type": "stream",
          "name": "stdout",
          "text": [
            "27217\n",
            "The keys in data are: ['full_text', 'text_translation', 'created_at', 'screen_name', 'description', 'desc_translation', 'weekofyear', 'weekday', 'day', 'month', 'year', 'location', 'point_info', 'point', 'latitude', 'longitude', 'altitude', 'province', 'hisco_standard', 'hisco_code', 'industry', 'sentiment_pattern', 'subjective_pattern']\n"
          ]
        },
        {
          "output_type": "stream",
          "name": "stderr",
          "text": [
            "/tmp/ipython-input-26-3013524848.py:15: FutureWarning: The behavior of DataFrame concatenation with empty or all-NA entries is deprecated. In a future version, this will no longer exclude empty or all-NA columns when determining the result dtypes. To retain the old behavior, exclude the relevant entries before the concat operation.\n",
            "  df_main = pd.concat([df_main, pd.DataFrame(json_obj)], ignore_index=True)\n"
          ]
        },
        {
          "output_type": "stream",
          "name": "stdout",
          "text": [
            "(271342, 23)\n"
          ]
        },
        {
          "output_type": "execute_result",
          "data": {
            "text/plain": [
              "                                           full_text  \\\n",
              "0  RT @chrisilluminati: Much like the pandemic, t...   \n",
              "1  RT @Dirk_Lauwers: Visie van collega @KBoussauw...   \n",
              "2  夏は、甘いのが人気！\\n　　　　#stay home\\nブ\\n　 ラ\\n　 ッ\\n　 　 ク...   \n",
              "3  Corona, het mooiste excuus om ons elke nog tas...   \n",
              "4  @mevrouwadvocaat De Chinesetomatensoep wordt d...   \n",
              "\n",
              "                                    text_translation     created_at  \\\n",
              "0  RT @chrisilluminati: Much like the pandemic, t...  1593530905000   \n",
              "1  RT @Dirk_Lauwers: Vision @KBoussauw colleagues...  1593672474000   \n",
              "2  Summer, sweet popular!\\n#stay home\\nBreakfast\\...  1593672475000   \n",
              "3  Corona, the best excuse to take us any more ta...  1593530908000   \n",
              "4  @mevrouwadvocaat Chinese Tomato caught twice. ...  1581174053000   \n",
              "\n",
              "       screen_name                                        description  \\\n",
              "0         hejost67                   Sports, nature, climate, food...   \n",
              "1       KarelBrits  If people are not laughing at your goals, your...   \n",
              "2  BlackDe74164200  Black Devil 👿再び降臨‼️ 「BLACK DEVIL（ブラックデビル）」は、🇳🇱...   \n",
              "3       Chasidiyah  Je weet nooit wat je voor n ander betekent. Li...   \n",
              "4           Glijn1  Zoon van de ouwe Glijn en trotse vader van Gli...   \n",
              "\n",
              "                                    desc_translation  weekofyear  weekday  \\\n",
              "0                  Sports, nature, climate, food ...        27.0      1.0   \n",
              "1  If people are not laughing at your goals, your...        27.0      3.0   \n",
              "2  Black Devil 👿 again descended! ️ \"BLACK DEVIL ...        27.0      3.0   \n",
              "3  You never know what you mean to one another. I...        27.0      1.0   \n",
              "4  Son of the old Glijn and proud father of Glijn...         6.0      5.0   \n",
              "\n",
              "    day  month  ...                         point   latitude longitude  \\\n",
              "0  30.0    6.0  ...  (52.5001698, 5.7480821, 0.0)  52.500170  5.748082   \n",
              "1   2.0    7.0  ...   (51.0312293, 4.098112, 0.0)  51.031229  4.098112   \n",
              "2   2.0    7.0  ...  (52.5001698, 5.7480821, 0.0)  52.500170  5.748082   \n",
              "3  30.0    6.0  ...                          None        NaN       NaN   \n",
              "4   8.0    2.0  ...                          None        NaN       NaN   \n",
              "\n",
              "  altitude   province  hisco_standard  hisco_code industry sentiment_pattern  \\\n",
              "0      0.0  Flevoland             min        7410     True            0.0000   \n",
              "1      0.0      False            None        None    False            0.3000   \n",
              "2      0.0  Flevoland            None        None    False            0.0000   \n",
              "3      NaN      False          dienst       55220     True            0.0625   \n",
              "4      0.0      False        advocaat       12110     True            0.0000   \n",
              "\n",
              "  subjective_pattern  \n",
              "0              0.000  \n",
              "1              0.500  \n",
              "2              0.000  \n",
              "3              0.275  \n",
              "4              0.000  \n",
              "\n",
              "[5 rows x 23 columns]"
            ],
            "text/html": [
              "\n",
              "  <div id=\"df-9fe8b839-8ff4-4554-9e9c-8a22c6074014\" class=\"colab-df-container\">\n",
              "    <div>\n",
              "<style scoped>\n",
              "    .dataframe tbody tr th:only-of-type {\n",
              "        vertical-align: middle;\n",
              "    }\n",
              "\n",
              "    .dataframe tbody tr th {\n",
              "        vertical-align: top;\n",
              "    }\n",
              "\n",
              "    .dataframe thead th {\n",
              "        text-align: right;\n",
              "    }\n",
              "</style>\n",
              "<table border=\"1\" class=\"dataframe\">\n",
              "  <thead>\n",
              "    <tr style=\"text-align: right;\">\n",
              "      <th></th>\n",
              "      <th>full_text</th>\n",
              "      <th>text_translation</th>\n",
              "      <th>created_at</th>\n",
              "      <th>screen_name</th>\n",
              "      <th>description</th>\n",
              "      <th>desc_translation</th>\n",
              "      <th>weekofyear</th>\n",
              "      <th>weekday</th>\n",
              "      <th>day</th>\n",
              "      <th>month</th>\n",
              "      <th>...</th>\n",
              "      <th>point</th>\n",
              "      <th>latitude</th>\n",
              "      <th>longitude</th>\n",
              "      <th>altitude</th>\n",
              "      <th>province</th>\n",
              "      <th>hisco_standard</th>\n",
              "      <th>hisco_code</th>\n",
              "      <th>industry</th>\n",
              "      <th>sentiment_pattern</th>\n",
              "      <th>subjective_pattern</th>\n",
              "    </tr>\n",
              "  </thead>\n",
              "  <tbody>\n",
              "    <tr>\n",
              "      <th>0</th>\n",
              "      <td>RT @chrisilluminati: Much like the pandemic, t...</td>\n",
              "      <td>RT @chrisilluminati: Much like the pandemic, t...</td>\n",
              "      <td>1593530905000</td>\n",
              "      <td>hejost67</td>\n",
              "      <td>Sports, nature, climate, food...</td>\n",
              "      <td>Sports, nature, climate, food ...</td>\n",
              "      <td>27.0</td>\n",
              "      <td>1.0</td>\n",
              "      <td>30.0</td>\n",
              "      <td>6.0</td>\n",
              "      <td>...</td>\n",
              "      <td>(52.5001698, 5.7480821, 0.0)</td>\n",
              "      <td>52.500170</td>\n",
              "      <td>5.748082</td>\n",
              "      <td>0.0</td>\n",
              "      <td>Flevoland</td>\n",
              "      <td>min</td>\n",
              "      <td>7410</td>\n",
              "      <td>True</td>\n",
              "      <td>0.0000</td>\n",
              "      <td>0.000</td>\n",
              "    </tr>\n",
              "    <tr>\n",
              "      <th>1</th>\n",
              "      <td>RT @Dirk_Lauwers: Visie van collega @KBoussauw...</td>\n",
              "      <td>RT @Dirk_Lauwers: Vision @KBoussauw colleagues...</td>\n",
              "      <td>1593672474000</td>\n",
              "      <td>KarelBrits</td>\n",
              "      <td>If people are not laughing at your goals, your...</td>\n",
              "      <td>If people are not laughing at your goals, your...</td>\n",
              "      <td>27.0</td>\n",
              "      <td>3.0</td>\n",
              "      <td>2.0</td>\n",
              "      <td>7.0</td>\n",
              "      <td>...</td>\n",
              "      <td>(51.0312293, 4.098112, 0.0)</td>\n",
              "      <td>51.031229</td>\n",
              "      <td>4.098112</td>\n",
              "      <td>0.0</td>\n",
              "      <td>False</td>\n",
              "      <td>None</td>\n",
              "      <td>None</td>\n",
              "      <td>False</td>\n",
              "      <td>0.3000</td>\n",
              "      <td>0.500</td>\n",
              "    </tr>\n",
              "    <tr>\n",
              "      <th>2</th>\n",
              "      <td>夏は、甘いのが人気！\\n　　　　#stay home\\nブ\\n　 ラ\\n　 ッ\\n　 　 ク...</td>\n",
              "      <td>Summer, sweet popular!\\n#stay home\\nBreakfast\\...</td>\n",
              "      <td>1593672475000</td>\n",
              "      <td>BlackDe74164200</td>\n",
              "      <td>Black Devil 👿再び降臨‼️ 「BLACK DEVIL（ブラックデビル）」は、🇳🇱...</td>\n",
              "      <td>Black Devil 👿 again descended! ️ \"BLACK DEVIL ...</td>\n",
              "      <td>27.0</td>\n",
              "      <td>3.0</td>\n",
              "      <td>2.0</td>\n",
              "      <td>7.0</td>\n",
              "      <td>...</td>\n",
              "      <td>(52.5001698, 5.7480821, 0.0)</td>\n",
              "      <td>52.500170</td>\n",
              "      <td>5.748082</td>\n",
              "      <td>0.0</td>\n",
              "      <td>Flevoland</td>\n",
              "      <td>None</td>\n",
              "      <td>None</td>\n",
              "      <td>False</td>\n",
              "      <td>0.0000</td>\n",
              "      <td>0.000</td>\n",
              "    </tr>\n",
              "    <tr>\n",
              "      <th>3</th>\n",
              "      <td>Corona, het mooiste excuus om ons elke nog tas...</td>\n",
              "      <td>Corona, the best excuse to take us any more ta...</td>\n",
              "      <td>1593530908000</td>\n",
              "      <td>Chasidiyah</td>\n",
              "      <td>Je weet nooit wat je voor n ander betekent. Li...</td>\n",
              "      <td>You never know what you mean to one another. I...</td>\n",
              "      <td>27.0</td>\n",
              "      <td>1.0</td>\n",
              "      <td>30.0</td>\n",
              "      <td>6.0</td>\n",
              "      <td>...</td>\n",
              "      <td>None</td>\n",
              "      <td>NaN</td>\n",
              "      <td>NaN</td>\n",
              "      <td>NaN</td>\n",
              "      <td>False</td>\n",
              "      <td>dienst</td>\n",
              "      <td>55220</td>\n",
              "      <td>True</td>\n",
              "      <td>0.0625</td>\n",
              "      <td>0.275</td>\n",
              "    </tr>\n",
              "    <tr>\n",
              "      <th>4</th>\n",
              "      <td>@mevrouwadvocaat De Chinesetomatensoep wordt d...</td>\n",
              "      <td>@mevrouwadvocaat Chinese Tomato caught twice. ...</td>\n",
              "      <td>1581174053000</td>\n",
              "      <td>Glijn1</td>\n",
              "      <td>Zoon van de ouwe Glijn en trotse vader van Gli...</td>\n",
              "      <td>Son of the old Glijn and proud father of Glijn...</td>\n",
              "      <td>6.0</td>\n",
              "      <td>5.0</td>\n",
              "      <td>8.0</td>\n",
              "      <td>2.0</td>\n",
              "      <td>...</td>\n",
              "      <td>None</td>\n",
              "      <td>NaN</td>\n",
              "      <td>NaN</td>\n",
              "      <td>0.0</td>\n",
              "      <td>False</td>\n",
              "      <td>advocaat</td>\n",
              "      <td>12110</td>\n",
              "      <td>True</td>\n",
              "      <td>0.0000</td>\n",
              "      <td>0.000</td>\n",
              "    </tr>\n",
              "  </tbody>\n",
              "</table>\n",
              "<p>5 rows × 23 columns</p>\n",
              "</div>\n",
              "    <div class=\"colab-df-buttons\">\n",
              "\n",
              "  <div class=\"colab-df-container\">\n",
              "    <button class=\"colab-df-convert\" onclick=\"convertToInteractive('df-9fe8b839-8ff4-4554-9e9c-8a22c6074014')\"\n",
              "            title=\"Convert this dataframe to an interactive table.\"\n",
              "            style=\"display:none;\">\n",
              "\n",
              "  <svg xmlns=\"http://www.w3.org/2000/svg\" height=\"24px\" viewBox=\"0 -960 960 960\">\n",
              "    <path d=\"M120-120v-720h720v720H120Zm60-500h600v-160H180v160Zm220 220h160v-160H400v160Zm0 220h160v-160H400v160ZM180-400h160v-160H180v160Zm440 0h160v-160H620v160ZM180-180h160v-160H180v160Zm440 0h160v-160H620v160Z\"/>\n",
              "  </svg>\n",
              "    </button>\n",
              "\n",
              "  <style>\n",
              "    .colab-df-container {\n",
              "      display:flex;\n",
              "      gap: 12px;\n",
              "    }\n",
              "\n",
              "    .colab-df-convert {\n",
              "      background-color: #E8F0FE;\n",
              "      border: none;\n",
              "      border-radius: 50%;\n",
              "      cursor: pointer;\n",
              "      display: none;\n",
              "      fill: #1967D2;\n",
              "      height: 32px;\n",
              "      padding: 0 0 0 0;\n",
              "      width: 32px;\n",
              "    }\n",
              "\n",
              "    .colab-df-convert:hover {\n",
              "      background-color: #E2EBFA;\n",
              "      box-shadow: 0px 1px 2px rgba(60, 64, 67, 0.3), 0px 1px 3px 1px rgba(60, 64, 67, 0.15);\n",
              "      fill: #174EA6;\n",
              "    }\n",
              "\n",
              "    .colab-df-buttons div {\n",
              "      margin-bottom: 4px;\n",
              "    }\n",
              "\n",
              "    [theme=dark] .colab-df-convert {\n",
              "      background-color: #3B4455;\n",
              "      fill: #D2E3FC;\n",
              "    }\n",
              "\n",
              "    [theme=dark] .colab-df-convert:hover {\n",
              "      background-color: #434B5C;\n",
              "      box-shadow: 0px 1px 3px 1px rgba(0, 0, 0, 0.15);\n",
              "      filter: drop-shadow(0px 1px 2px rgba(0, 0, 0, 0.3));\n",
              "      fill: #FFFFFF;\n",
              "    }\n",
              "  </style>\n",
              "\n",
              "    <script>\n",
              "      const buttonEl =\n",
              "        document.querySelector('#df-9fe8b839-8ff4-4554-9e9c-8a22c6074014 button.colab-df-convert');\n",
              "      buttonEl.style.display =\n",
              "        google.colab.kernel.accessAllowed ? 'block' : 'none';\n",
              "\n",
              "      async function convertToInteractive(key) {\n",
              "        const element = document.querySelector('#df-9fe8b839-8ff4-4554-9e9c-8a22c6074014');\n",
              "        const dataTable =\n",
              "          await google.colab.kernel.invokeFunction('convertToInteractive',\n",
              "                                                    [key], {});\n",
              "        if (!dataTable) return;\n",
              "\n",
              "        const docLinkHtml = 'Like what you see? Visit the ' +\n",
              "          '<a target=\"_blank\" href=https://colab.research.google.com/notebooks/data_table.ipynb>data table notebook</a>'\n",
              "          + ' to learn more about interactive tables.';\n",
              "        element.innerHTML = '';\n",
              "        dataTable['output_type'] = 'display_data';\n",
              "        await google.colab.output.renderOutput(dataTable, element);\n",
              "        const docLink = document.createElement('div');\n",
              "        docLink.innerHTML = docLinkHtml;\n",
              "        element.appendChild(docLink);\n",
              "      }\n",
              "    </script>\n",
              "  </div>\n",
              "\n",
              "\n",
              "    <div id=\"df-ba2a4d76-0571-48f0-8cb9-f254a1e57438\">\n",
              "      <button class=\"colab-df-quickchart\" onclick=\"quickchart('df-ba2a4d76-0571-48f0-8cb9-f254a1e57438')\"\n",
              "                title=\"Suggest charts\"\n",
              "                style=\"display:none;\">\n",
              "\n",
              "<svg xmlns=\"http://www.w3.org/2000/svg\" height=\"24px\"viewBox=\"0 0 24 24\"\n",
              "     width=\"24px\">\n",
              "    <g>\n",
              "        <path d=\"M19 3H5c-1.1 0-2 .9-2 2v14c0 1.1.9 2 2 2h14c1.1 0 2-.9 2-2V5c0-1.1-.9-2-2-2zM9 17H7v-7h2v7zm4 0h-2V7h2v10zm4 0h-2v-4h2v4z\"/>\n",
              "    </g>\n",
              "</svg>\n",
              "      </button>\n",
              "\n",
              "<style>\n",
              "  .colab-df-quickchart {\n",
              "      --bg-color: #E8F0FE;\n",
              "      --fill-color: #1967D2;\n",
              "      --hover-bg-color: #E2EBFA;\n",
              "      --hover-fill-color: #174EA6;\n",
              "      --disabled-fill-color: #AAA;\n",
              "      --disabled-bg-color: #DDD;\n",
              "  }\n",
              "\n",
              "  [theme=dark] .colab-df-quickchart {\n",
              "      --bg-color: #3B4455;\n",
              "      --fill-color: #D2E3FC;\n",
              "      --hover-bg-color: #434B5C;\n",
              "      --hover-fill-color: #FFFFFF;\n",
              "      --disabled-bg-color: #3B4455;\n",
              "      --disabled-fill-color: #666;\n",
              "  }\n",
              "\n",
              "  .colab-df-quickchart {\n",
              "    background-color: var(--bg-color);\n",
              "    border: none;\n",
              "    border-radius: 50%;\n",
              "    cursor: pointer;\n",
              "    display: none;\n",
              "    fill: var(--fill-color);\n",
              "    height: 32px;\n",
              "    padding: 0;\n",
              "    width: 32px;\n",
              "  }\n",
              "\n",
              "  .colab-df-quickchart:hover {\n",
              "    background-color: var(--hover-bg-color);\n",
              "    box-shadow: 0 1px 2px rgba(60, 64, 67, 0.3), 0 1px 3px 1px rgba(60, 64, 67, 0.15);\n",
              "    fill: var(--button-hover-fill-color);\n",
              "  }\n",
              "\n",
              "  .colab-df-quickchart-complete:disabled,\n",
              "  .colab-df-quickchart-complete:disabled:hover {\n",
              "    background-color: var(--disabled-bg-color);\n",
              "    fill: var(--disabled-fill-color);\n",
              "    box-shadow: none;\n",
              "  }\n",
              "\n",
              "  .colab-df-spinner {\n",
              "    border: 2px solid var(--fill-color);\n",
              "    border-color: transparent;\n",
              "    border-bottom-color: var(--fill-color);\n",
              "    animation:\n",
              "      spin 1s steps(1) infinite;\n",
              "  }\n",
              "\n",
              "  @keyframes spin {\n",
              "    0% {\n",
              "      border-color: transparent;\n",
              "      border-bottom-color: var(--fill-color);\n",
              "      border-left-color: var(--fill-color);\n",
              "    }\n",
              "    20% {\n",
              "      border-color: transparent;\n",
              "      border-left-color: var(--fill-color);\n",
              "      border-top-color: var(--fill-color);\n",
              "    }\n",
              "    30% {\n",
              "      border-color: transparent;\n",
              "      border-left-color: var(--fill-color);\n",
              "      border-top-color: var(--fill-color);\n",
              "      border-right-color: var(--fill-color);\n",
              "    }\n",
              "    40% {\n",
              "      border-color: transparent;\n",
              "      border-right-color: var(--fill-color);\n",
              "      border-top-color: var(--fill-color);\n",
              "    }\n",
              "    60% {\n",
              "      border-color: transparent;\n",
              "      border-right-color: var(--fill-color);\n",
              "    }\n",
              "    80% {\n",
              "      border-color: transparent;\n",
              "      border-right-color: var(--fill-color);\n",
              "      border-bottom-color: var(--fill-color);\n",
              "    }\n",
              "    90% {\n",
              "      border-color: transparent;\n",
              "      border-bottom-color: var(--fill-color);\n",
              "    }\n",
              "  }\n",
              "</style>\n",
              "\n",
              "      <script>\n",
              "        async function quickchart(key) {\n",
              "          const quickchartButtonEl =\n",
              "            document.querySelector('#' + key + ' button');\n",
              "          quickchartButtonEl.disabled = true;  // To prevent multiple clicks.\n",
              "          quickchartButtonEl.classList.add('colab-df-spinner');\n",
              "          try {\n",
              "            const charts = await google.colab.kernel.invokeFunction(\n",
              "                'suggestCharts', [key], {});\n",
              "          } catch (error) {\n",
              "            console.error('Error during call to suggestCharts:', error);\n",
              "          }\n",
              "          quickchartButtonEl.classList.remove('colab-df-spinner');\n",
              "          quickchartButtonEl.classList.add('colab-df-quickchart-complete');\n",
              "        }\n",
              "        (() => {\n",
              "          let quickchartButtonEl =\n",
              "            document.querySelector('#df-ba2a4d76-0571-48f0-8cb9-f254a1e57438 button');\n",
              "          quickchartButtonEl.style.display =\n",
              "            google.colab.kernel.accessAllowed ? 'block' : 'none';\n",
              "        })();\n",
              "      </script>\n",
              "    </div>\n",
              "\n",
              "    </div>\n",
              "  </div>\n"
            ],
            "application/vnd.google.colaboratory.intrinsic+json": {
              "type": "dataframe",
              "variable_name": "df"
            }
          },
          "metadata": {},
          "execution_count": 26
        }
      ]
    },
    {
      "cell_type": "code",
      "source": [
        "df_map = df[['created_at', 'location', 'latitude', 'longitude', 'altitude', 'province']]\n",
        "df_map.head()\n",
        "print(df_map.shape)"
      ],
      "metadata": {
        "colab": {
          "base_uri": "https://localhost:8080/"
        },
        "id": "QhxnoUZF2q95",
        "outputId": "75c62a0f-2f6c-414b-beef-81300966155f"
      },
      "execution_count": 29,
      "outputs": [
        {
          "output_type": "stream",
          "name": "stdout",
          "text": [
            "(271342, 6)\n"
          ]
        }
      ]
    },
    {
      "cell_type": "code",
      "source": [
        "df_map.dropna(subset=['longitude', 'latitude'], inplace=True)"
      ],
      "metadata": {
        "colab": {
          "base_uri": "https://localhost:8080/"
        },
        "id": "g92Hvol727uB",
        "outputId": "8ed0981c-9533-45e2-9f28-9ab895bd8047"
      },
      "execution_count": 30,
      "outputs": [
        {
          "output_type": "stream",
          "name": "stderr",
          "text": [
            "/tmp/ipython-input-30-2587569966.py:1: SettingWithCopyWarning: \n",
            "A value is trying to be set on a copy of a slice from a DataFrame\n",
            "\n",
            "See the caveats in the documentation: https://pandas.pydata.org/pandas-docs/stable/user_guide/indexing.html#returning-a-view-versus-a-copy\n",
            "  df_map.dropna(subset=['longitude', 'latitude'], inplace=True)\n"
          ]
        }
      ]
    },
    {
      "cell_type": "code",
      "source": [
        "df_map = df_map[(df_map['latitude'] >= -90) & (df_map['latitude'] <= 90)]\n",
        "df_map = df_map[(df_map['longitude'] >= -180) & (df_map['longitude'] <= 180)]"
      ],
      "metadata": {
        "id": "wzFChfC828qp"
      },
      "execution_count": 31,
      "outputs": []
    },
    {
      "cell_type": "code",
      "source": [
        "df_map['latitude'] = df_map['latitude'].round(4)\n",
        "df_map['longitude'] = df_map['longitude'].round(4)"
      ],
      "metadata": {
        "id": "TwrLhaWr3D1A"
      },
      "execution_count": 32,
      "outputs": []
    },
    {
      "cell_type": "code",
      "source": [
        "df_map.shape"
      ],
      "metadata": {
        "colab": {
          "base_uri": "https://localhost:8080/"
        },
        "id": "1R4t_S3L3GKz",
        "outputId": "234d040b-aafe-4355-a29f-be48e611e1ee"
      },
      "execution_count": 33,
      "outputs": [
        {
          "output_type": "execute_result",
          "data": {
            "text/plain": [
              "(134445, 6)"
            ]
          },
          "metadata": {},
          "execution_count": 33
        }
      ]
    },
    {
      "cell_type": "code",
      "source": [
        "df_group = df_map.drop(['location' ,'altitude','province'], axis='columns')"
      ],
      "metadata": {
        "id": "3cvgqkvX3NNi"
      },
      "execution_count": 34,
      "outputs": []
    },
    {
      "cell_type": "code",
      "source": [
        "map_center = [df_group['longitude'].mean(), df_group['latitude'].mean()]\n",
        "heat_map = folium.Map(locations = map_center, zoom_start=4)"
      ],
      "metadata": {
        "id": "htNSCpxi3OYg"
      },
      "execution_count": 35,
      "outputs": []
    },
    {
      "cell_type": "code",
      "source": [
        "head_data = df_group[['latitude', 'longitude']].values.tolist()\n",
        "HeatMap(head_data, radius=10, blur=15, max_zoom=6).add_to(heat_map)"
      ],
      "metadata": {
        "colab": {
          "base_uri": "https://localhost:8080/"
        },
        "id": "0-VT-dc03X5X",
        "outputId": "2a765018-54d9-44d7-aa2a-bb5857879471"
      },
      "execution_count": 36,
      "outputs": [
        {
          "output_type": "execute_result",
          "data": {
            "text/plain": [
              "<folium.plugins.heat_map.HeatMap at 0x787626b3b190>"
            ]
          },
          "metadata": {},
          "execution_count": 36
        }
      ]
    },
    {
      "cell_type": "code",
      "source": [
        "image = \"dutch_heatmap.html\"\n",
        "heat_map.save(image)\n",
        "print(df['full_text'].head())\n",
        "print(df['text_translation'].head())"
      ],
      "metadata": {
        "colab": {
          "base_uri": "https://localhost:8080/"
        },
        "id": "yeoG47fZ3g-f",
        "outputId": "b44a0da5-d829-42bc-a1c8-2da3c210d02e"
      },
      "execution_count": 37,
      "outputs": [
        {
          "output_type": "stream",
          "name": "stdout",
          "text": [
            "0    RT @chrisilluminati: Much like the pandemic, t...\n",
            "1    RT @Dirk_Lauwers: Visie van collega @KBoussauw...\n",
            "2    夏は、甘いのが人気！\\n　　　　#stay home\\nブ\\n　 ラ\\n　 ッ\\n　 　 ク...\n",
            "3    Corona, het mooiste excuus om ons elke nog tas...\n",
            "4    @mevrouwadvocaat De Chinesetomatensoep wordt d...\n",
            "Name: full_text, dtype: object\n",
            "0    RT @chrisilluminati: Much like the pandemic, t...\n",
            "1    RT @Dirk_Lauwers: Vision @KBoussauw colleagues...\n",
            "2    Summer, sweet popular!\\n#stay home\\nBreakfast\\...\n",
            "3    Corona, the best excuse to take us any more ta...\n",
            "4    @mevrouwadvocaat Chinese Tomato caught twice. ...\n",
            "Name: text_translation, dtype: object\n"
          ]
        }
      ]
    },
    {
      "cell_type": "code",
      "source": [
        "df_comments = df[['text_translation']]\n",
        "import nltk\n",
        "\n",
        "nltk.download([\n",
        "\"names\",\n",
        "\"stopwords\",\n",
        "\"state_union\",\n",
        "\"twitter_samples\",\n",
        "\"movie_reviews\",\n",
        "\"averaged_perceptron_tagger\",\n",
        "\"vader_lexicon\",\n",
        "\"punkt\",\n",
        "])"
      ],
      "metadata": {
        "colab": {
          "base_uri": "https://localhost:8080/"
        },
        "id": "8h18pAaZ3vSt",
        "outputId": "c103e133-f0d0-4069-c5bd-e1d823bc9cb2"
      },
      "execution_count": 38,
      "outputs": [
        {
          "output_type": "stream",
          "name": "stderr",
          "text": [
            "[nltk_data] Downloading package names to /root/nltk_data...\n",
            "[nltk_data]   Package names is already up-to-date!\n",
            "[nltk_data] Downloading package stopwords to /root/nltk_data...\n",
            "[nltk_data]   Package stopwords is already up-to-date!\n",
            "[nltk_data] Downloading package state_union to /root/nltk_data...\n",
            "[nltk_data]   Package state_union is already up-to-date!\n",
            "[nltk_data] Downloading package twitter_samples to /root/nltk_data...\n",
            "[nltk_data]   Package twitter_samples is already up-to-date!\n",
            "[nltk_data] Downloading package movie_reviews to /root/nltk_data...\n",
            "[nltk_data]   Package movie_reviews is already up-to-date!\n",
            "[nltk_data] Downloading package averaged_perceptron_tagger to\n",
            "[nltk_data]     /root/nltk_data...\n",
            "[nltk_data]   Package averaged_perceptron_tagger is already up-to-\n",
            "[nltk_data]       date!\n",
            "[nltk_data] Downloading package vader_lexicon to /root/nltk_data...\n",
            "[nltk_data]   Package vader_lexicon is already up-to-date!\n",
            "[nltk_data] Downloading package punkt to /root/nltk_data...\n",
            "[nltk_data]   Package punkt is already up-to-date!\n"
          ]
        },
        {
          "output_type": "execute_result",
          "data": {
            "text/plain": [
              "True"
            ]
          },
          "metadata": {},
          "execution_count": 38
        }
      ]
    },
    {
      "cell_type": "code",
      "source": [
        "from nltk.sentiment import SentimentIntensityAnalyzer\n",
        "sia = SentimentIntensityAnalyzer()\n",
        "df_comments.head()\n",
        "df_comments.dropna(inplace=True)"
      ],
      "metadata": {
        "id": "cYJwLaA736Mz"
      },
      "execution_count": 39,
      "outputs": []
    },
    {
      "cell_type": "code",
      "source": [
        "def senti_analysis(text):\n",
        "    scores = sia.polarity_scores(text)\n",
        "    return scores['compound']\n",
        "df_comments['sentiment_scores'] = df_comments['text_translation'].apply(senti_analysis)"
      ],
      "metadata": {
        "colab": {
          "base_uri": "https://localhost:8080/"
        },
        "id": "kvboo2lZ4Hsp",
        "outputId": "35ed6da8-f68e-495e-9eaf-f94ca653361d"
      },
      "execution_count": 40,
      "outputs": [
        {
          "output_type": "stream",
          "name": "stderr",
          "text": [
            "/tmp/ipython-input-40-2208162249.py:4: SettingWithCopyWarning: \n",
            "A value is trying to be set on a copy of a slice from a DataFrame.\n",
            "Try using .loc[row_indexer,col_indexer] = value instead\n",
            "\n",
            "See the caveats in the documentation: https://pandas.pydata.org/pandas-docs/stable/user_guide/indexing.html#returning-a-view-versus-a-copy\n",
            "  df_comments['sentiment_scores'] = df_comments['text_translation'].apply(senti_analysis)\n"
          ]
        }
      ]
    },
    {
      "cell_type": "code",
      "source": [
        "def sentiments(scores):\n",
        "    if scores > 0.05:\n",
        "        return \"positive\"\n",
        "\n",
        "    elif scores <= -0.05:\n",
        "        return \"negative\"\n",
        "\n",
        "    else:\n",
        "        return \"neutral\"\n",
        "df_comments['sentiment_label'] = df_comments['sentiment_scores'].apply(sentiments)\n",
        "\n",
        "df_comments.to_csv(\"sentimentAnalysis.csv\", index = False)"
      ],
      "metadata": {
        "colab": {
          "base_uri": "https://localhost:8080/"
        },
        "id": "zXRlsWK52amN",
        "outputId": "3883337e-1aad-4d2c-9a3c-8f9ccb9d5646"
      },
      "execution_count": 41,
      "outputs": [
        {
          "output_type": "stream",
          "name": "stderr",
          "text": [
            "/tmp/ipython-input-41-1214548404.py:10: SettingWithCopyWarning: \n",
            "A value is trying to be set on a copy of a slice from a DataFrame.\n",
            "Try using .loc[row_indexer,col_indexer] = value instead\n",
            "\n",
            "See the caveats in the documentation: https://pandas.pydata.org/pandas-docs/stable/user_guide/indexing.html#returning-a-view-versus-a-copy\n",
            "  df_comments['sentiment_label'] = df_comments['sentiment_scores'].apply(sentiments)\n"
          ]
        }
      ]
    }
  ]
}